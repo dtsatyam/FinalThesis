{
 "cells": [
  {
   "cell_type": "markdown",
   "metadata": {},
   "source": [
    "### Importing required libraries"
   ]
  },
  {
   "cell_type": "code",
   "execution_count": 1,
   "metadata": {},
   "outputs": [
    {
     "name": "stderr",
     "output_type": "stream",
     "text": [
      "d:\\ML_Practice\\LLAMA_FineTuning\\finetune\\lib\\site-packages\\tqdm\\auto.py:21: TqdmWarning: IProgress not found. Please update jupyter and ipywidgets. See https://ipywidgets.readthedocs.io/en/stable/user_install.html\n",
      "  from .autonotebook import tqdm as notebook_tqdm\n"
     ]
    }
   ],
   "source": [
    "import os\n",
    "import torch\n",
    "import numpy as np\n",
    "import random\n",
    "import matplotlib.pyplot as plt\n",
    "from collections import Counter\n",
    "from datasets import load_dataset, Dataset, concatenate_datasets"
   ]
  },
  {
   "cell_type": "code",
   "execution_count": 2,
   "metadata": {},
   "outputs": [],
   "source": [
    "from transformers import (\n",
    "    AutoModelForCausalLM,\n",
    "    AutoTokenizer,\n",
    "    TrainingArguments,\n",
    "    Trainer,\n",
    "    DataCollatorForLanguageModeling,\n",
    "    logging,\n",
    ")"
   ]
  },
  {
   "cell_type": "code",
   "execution_count": 3,
   "metadata": {},
   "outputs": [],
   "source": [
    "from peft import (\n",
    "    LoraConfig,\n",
    "    get_peft_model,\n",
    "    TaskType,\n",
    ")"
   ]
  },
  {
   "cell_type": "code",
   "execution_count": 4,
   "metadata": {},
   "outputs": [],
   "source": [
    "from sklearn.metrics import accuracy_score, f1_score\n",
    "from sklearn.utils.class_weight import compute_class_weight\n",
    "import nlpaug.augmenter.word as naw"
   ]
  },
  {
   "cell_type": "code",
   "execution_count": 5,
   "metadata": {},
   "outputs": [],
   "source": [
    "# Model and tokenizer configuration\n",
    "model_name = \"meta-llama/Llama-3.2-1B\"\n",
    "output_dir = \"./llama-3.2-banking77-lora-finetuned_10052025\""
   ]
  },
  {
   "cell_type": "code",
   "execution_count": 6,
   "metadata": {},
   "outputs": [
    {
     "data": {
      "text/plain": [
       "<torch._C.Generator at 0x20ce8162d90>"
      ]
     },
     "execution_count": 6,
     "metadata": {},
     "output_type": "execute_result"
    }
   ],
   "source": [
    "# Set random seed for reproducibility\n",
    "random.seed(42)\n",
    "np.random.seed(42)\n",
    "torch.manual_seed(42)"
   ]
  },
  {
   "cell_type": "code",
   "execution_count": 7,
   "metadata": {},
   "outputs": [
    {
     "name": "stderr",
     "output_type": "stream",
     "text": [
      "Using the latest cached version of the dataset since legacy-datasets/banking77 couldn't be found on the Hugging Face Hub\n",
      "Found the latest cached dataset configuration 'default' at C:\\Users\\dtsat\\.cache\\huggingface\\datasets\\legacy-datasets___banking77\\default\\0.0.0\\f54121560de48f2852f90be299010d1d6dc612ec (last modified on Tue Apr  1 17:17:43 2025).\n"
     ]
    },
    {
     "name": "stdout",
     "output_type": "stream",
     "text": [
      "Dataset loaded: DatasetDict({\n",
      "    train: Dataset({\n",
      "        features: ['text', 'label'],\n",
      "        num_rows: 10003\n",
      "    })\n",
      "    test: Dataset({\n",
      "        features: ['text', 'label'],\n",
      "        num_rows: 3080\n",
      "    })\n",
      "})\n"
     ]
    }
   ],
   "source": [
    "# Load Banking77 dataset\n",
    "dataset = load_dataset(\"legacy-datasets/banking77\")\n",
    "print(f\"Dataset loaded: {dataset}\")"
   ]
  },
  {
   "cell_type": "code",
   "execution_count": 8,
   "metadata": {},
   "outputs": [],
   "source": [
    "# Analyze class distribution in the dataset\n",
    "intent_counts = Counter(dataset[\"train\"][\"label\"])"
   ]
  },
  {
   "cell_type": "code",
   "execution_count": 9,
   "metadata": {},
   "outputs": [
    {
     "data": {
      "image/png": "[encoded data removed]",
      "text/plain": [
       "<Figure size 1200x600 with 1 Axes>"
      ]
     },
     "metadata": {},
     "output_type": "display_data"
    }
   ],
   "source": [
    "# Plot the distribution\n",
    "plt.figure(figsize=(12, 6))\n",
    "plt.bar(range(len(intent_counts)), sorted(intent_counts.values(), reverse=True))\n",
    "plt.xlabel('Intent Index (sorted by frequency)')\n",
    "plt.ylabel('Number of Examples')\n",
    "plt.title('Intent Distribution in Banking77 Dataset')\n",
    "plt.grid(axis='y', alpha=0.3)\n",
    "plt.savefig('intent_distribution.png')\n",
    "plt.show()\n",
    "plt.close()"
   ]
  },
  {
   "cell_type": "code",
   "execution_count": 10,
   "metadata": {},
   "outputs": [
    {
     "name": "stdout",
     "output_type": "stream",
     "text": [
      "Most common intents: [(15, 187), (28, 182), (6, 181), (75, 180), (19, 177)]\n",
      "Least common intents: [(23, 35), (72, 41), (10, 59), (18, 61), (41, 82)]\n"
     ]
    }
   ],
   "source": [
    "print(\"Most common intents:\", intent_counts.most_common(5))\n",
    "print(\"Least common intents:\", intent_counts.most_common()[:-6:-1])"
   ]
  },
  {
   "cell_type": "code",
   "execution_count": 11,
   "metadata": {},
   "outputs": [
    {
     "name": "stdout",
     "output_type": "stream",
     "text": [
      "Total number of intents: 77\n",
      "Excluded intents: [14, 3, 35, 31, 28]\n"
     ]
    }
   ],
   "source": [
    "# Select 5 random intents to hold out for few-shot evaluation\n",
    "all_intents = list(set(dataset[\"train\"][\"label\"]))\n",
    "print(f\"Total number of intents: {len(all_intents)}\")\n",
    "\n",
    "# Select 5 random intents to exclude from training\n",
    "excluded_intents = random.sample(all_intents, 5)\n",
    "print(f\"Excluded intents: {excluded_intents}\")"
   ]
  },
  {
   "cell_type": "code",
   "execution_count": 12,
   "metadata": {},
   "outputs": [],
   "source": [
    "# Define label mapping\n",
    "label_descriptions = {}\n",
    "for i in range(77):\n",
    "    # In a real scenario, you would have actual label descriptions\n",
    "    label_descriptions[i] = f\"Category {i}\""
   ]
  },
  {
   "cell_type": "code",
   "execution_count": 13,
   "metadata": {},
   "outputs": [],
   "source": [
    "# Filter the dataset to create training and few-shot datasets\n",
    "def filter_dataset(dataset_split, excluded_intents, include_excluded=False):\n",
    "    \"\"\"\n",
    "    Filter dataset to either include or exclude specific intents\n",
    "    \"\"\"\n",
    "    filtered_indices = []\n",
    "    for i, label in enumerate(dataset_split[\"label\"]):\n",
    "        if (label in excluded_intents) == include_excluded:\n",
    "            filtered_indices.append(i)\n",
    "    \n",
    "    return dataset_split.select(filtered_indices)"
   ]
  },
  {
   "cell_type": "code",
   "execution_count": 14,
   "metadata": {},
   "outputs": [],
   "source": [
    "# Create datasets - one for training (72 intents) and one for few-shot examples (5 intents)\n",
    "train_dataset = filter_dataset(dataset[\"train\"], excluded_intents, include_excluded=False)\n",
    "eval_dataset = filter_dataset(dataset[\"test\"], excluded_intents, include_excluded=False)\n",
    "few_shot_dataset = filter_dataset(dataset[\"train\"], excluded_intents, include_excluded=True)"
   ]
  },
  {
   "cell_type": "code",
   "execution_count": 15,
   "metadata": {},
   "outputs": [
    {
     "name": "stdout",
     "output_type": "stream",
     "text": [
      "Training examples: 9364\n",
      "Evaluation examples: 2880\n",
      "Few-shot examples: 639\n"
     ]
    }
   ],
   "source": [
    "print(f\"Training examples: {len(train_dataset)}\")\n",
    "print(f\"Evaluation examples: {len(eval_dataset)}\")\n",
    "print(f\"Few-shot examples: {len(few_shot_dataset)}\")"
   ]
  },
  {
   "cell_type": "code",
   "execution_count": 16,
   "metadata": {},
   "outputs": [],
   "source": [
    "def augment_text_example(text, intent, num_augmentations=2):\n",
    "    \"\"\"Generate augmented examples for a given text and intent\"\"\"\n",
    "    augmented_examples = []\n",
    "    # Word replacement augmenter (synonym replacement)\n",
    "    aug_synonym = naw.SynonymAug(aug_src='wordnet', aug_max=2)\n",
    "    # Random word swap augmenter\n",
    "    aug_swap = naw.RandomWordAug(action=\"swap\", aug_max=2)\n",
    "    # Context-based word insertion augmenter\n",
    "    try:\n",
    "        aug_insert = naw.ContextualWordEmbsAug(\n",
    "            model_path='distilbert-base-uncased', action='insert', aug_max=2\n",
    "        )\n",
    "        augmenters = [aug_synonym, aug_swap, aug_insert]\n",
    "    except:\n",
    "        # Fallback if contextual augmenter can't be loaded\n",
    "        augmenters = [aug_synonym, aug_swap]\n",
    "    \n",
    "    # Generate augmentations\n",
    "    for i in range(min(num_augmentations, len(augmenters))):\n",
    "        aug = augmenters[i]\n",
    "        try:\n",
    "            augmented_text = aug.augment(text)\n",
    "            if isinstance(augmented_text, list):\n",
    "                augmented_text = augmented_text[0]\n",
    "            augmented_examples.append({\"text\": augmented_text, \"label\": intent})\n",
    "        except Exception as e:\n",
    "            print(f\"Augmentation error: {e}\")\n",
    "            continue\n",
    "    \n",
    "    return augmented_examples\n"
   ]
  },
  {
   "cell_type": "code",
   "execution_count": 17,
   "metadata": {},
   "outputs": [],
   "source": [
    "# Count examples per intent in the filtered training set\n",
    "filtered_intent_counts = Counter(train_dataset[\"label\"])"
   ]
  },
  {
   "cell_type": "code",
   "execution_count": 18,
   "metadata": {},
   "outputs": [
    {
     "name": "stdout",
     "output_type": "stream",
     "text": [
      "Augmentation threshold: 127.5 examples\n"
     ]
    }
   ],
   "source": [
    "# Identify minority classes that need augmentation\n",
    "intent_threshold = np.median(list(filtered_intent_counts.values()))  # Use median as threshold\n",
    "print(f\"Augmentation threshold: {intent_threshold} examples\")"
   ]
  },
  {
   "cell_type": "code",
   "execution_count": 19,
   "metadata": {},
   "outputs": [],
   "source": [
    "import nltk\n",
    "from nltk import *\n",
    "from nltk.corpus import wordnet"
   ]
  },
  {
   "cell_type": "code",
   "execution_count": null,
   "metadata": {},
   "outputs": [],
   "source": [
    "# Apply augmentation to minority classes\n",
    "augmented_examples = []\n",
    "for intent, count in filtered_intent_counts.items():\n",
    "    if count < intent_threshold:\n",
    "        # Get examples for this intent\n",
    "        intent_examples = [ex for i, ex in enumerate(train_dataset) if ex[\"label\"] == intent]\n",
    "        \n",
    "        # Determine how many augmentations needed per example\n",
    "        aug_factor = min(3, max(1, int(intent_threshold / max(1, count))))\n",
    "        \n",
    "        # Augment each example\n",
    "        for example in intent_examples:\n",
    "            new_examples = augment_text_example(\n",
    "                example[\"text\"], example[\"label\"], num_augmentations=aug_factor\n",
    "            )\n",
    "            augmented_examples.extend(new_examples)\n",
    "\n",
    "print(f\"Generated {len(augmented_examples)} augmented examples\")"
   ]
  },
  {
   "cell_type": "code",
   "execution_count": 23,
   "metadata": {},
   "outputs": [
    {
     "name": "stdout",
     "output_type": "stream",
     "text": [
      "Training dataset size after augmentation: 9560\n"
     ]
    }
   ],
   "source": [
    "# Create a dataset from augmented examples\n",
    "import pandas as pd\n",
    "if len(augmented_examples) > 0:\n",
    "    original_features = train_dataset.features\n",
    "    augmented_dataset = Dataset.from_pandas(\n",
    "        pd.DataFrame({\n",
    "        \"text\": [ex[\"text\"] for ex in augmented_examples],\n",
    "        \"label\": [ex[\"label\"] for ex in augmented_examples]\n",
    "    }),\n",
    "    features = original_features\n",
    "    )\n",
    "    \n",
    "    # Combine with original training data\n",
    "    train_dataset = concatenate_datasets([train_dataset, augmented_dataset])\n",
    "    print(f\"Training dataset size after augmentation: {len(train_dataset)}\")"
   ]
  },
  {
   "cell_type": "code",
   "execution_count": null,
   "metadata": {},
   "outputs": [],
   "source": [
    "# Apply augmentation to minority classes\n",
    "augmented_examples = []\n",
    "for intent, count in filtered_intent_counts.items():\n",
    "    if count < intent_threshold:\n",
    "        # Get examples for this intent\n",
    "        intent_examples = [ex for i, ex in enumerate(train_dataset) if ex[\"label\"] == intent]\n",
    "        \n",
    "        # Determine how many augmentations needed per example\n",
    "        aug_factor = min(3, max(1, int(intent_threshold / max(1, count))))\n",
    "        \n",
    "        # Augment each example\n",
    "        for example in intent_examples:\n",
    "            new_examples = augment_text_example(\n",
    "                example[\"text\"], example[\"label\"], num_augmentations=aug_factor\n",
    "            )\n",
    "            augmented_examples.extend(new_examples)\n",
    "\n",
    "print(f\"Generated {len(augmented_examples)} augmented examples\")"
   ]
  },
  {
   "cell_type": "code",
   "execution_count": 24,
   "metadata": {},
   "outputs": [
    {
     "data": {
      "text/plain": [
       "Dataset({\n",
       "    features: ['text', 'label'],\n",
       "    num_rows: 196\n",
       "})"
      ]
     },
     "execution_count": 24,
     "metadata": {},
     "output_type": "execute_result"
    }
   ],
   "source": [
    "augmented_dataset"
   ]
  },
  {
   "cell_type": "code",
   "execution_count": 25,
   "metadata": {},
   "outputs": [
    {
     "name": "stdout",
     "output_type": "stream",
     "text": [
      "Number of few-shot examples selected: 15\n"
     ]
    }
   ],
   "source": [
    "# Create a small set of few-shot examples (3 per intent)\n",
    "few_shot_examples = []\n",
    "for intent in excluded_intents:\n",
    "    # Get examples for this intent\n",
    "    intent_examples = [ex for i, ex in enumerate(few_shot_dataset) if ex[\"label\"] == intent]\n",
    "    # Select up to 3 examples\n",
    "    selected = intent_examples[:3] if len(intent_examples) >= 3 else intent_examples\n",
    "    few_shot_examples.extend(selected)\n",
    "\n",
    "print(f\"Number of few-shot examples selected: {len(few_shot_examples)}\")"
   ]
  },
  {
   "cell_type": "code",
   "execution_count": 26,
   "metadata": {},
   "outputs": [],
   "source": [
    "# Load tokenizer\n",
    "tokenizer = AutoTokenizer.from_pretrained(model_name, trust_remote_code=True)\n",
    "tokenizer.pad_token = tokenizer.eos_token\n",
    "tokenizer.padding_side = \"right\""
   ]
  },
  {
   "cell_type": "code",
   "execution_count": null,
   "metadata": {},
   "outputs": [],
   "source": [
    "# Function to preprocess the dataset - do NOT convert to tensors here\n",
    "def preprocess_function(examples):\n",
    "    formatted_inputs = []\n",
    "    \n",
    "    for text, label_id in zip(examples[\"text\"], examples[\"label\"]):\n",
    "        # Get the label description\n",
    "        label_text = label_descriptions[label_id]\n",
    "        \n",
    "        # Create input prompt\n",
    "        prompt = f\"### Instruction: Classify the following bank customer query into the appropriate category.\\n\\n### Input: {text}\\n\\n### Response: {label_text}\"\n",
    "        formatted_inputs.append(prompt)\n",
    "\n",
    "    tokenized_inputs = tokenizer(\n",
    "        formatted_inputs,\n",
    "        padding=\"max_length\",\n",
    "        truncation=True,\n",
    "        max_length=128,\n",
    "        return_tensors=None  # Don't convert to tensors yet\n",
    "    )\n",
    "    tokenized_inputs[\"labels\"] = tokenized_inputs[\"input_ids\"].copy()\n",
    "    return tokenized_inputs\n"
   ]
  },
  {
   "cell_type": "code",
   "execution_count": 28,
   "metadata": {},
   "outputs": [
    {
     "name": "stderr",
     "output_type": "stream",
     "text": [
      "Map: 100%|██████████| 9560/9560 [00:02<00:00, 3502.69 examples/s]\n"
     ]
    }
   ],
   "source": [
    "# Apply preprocessing to the dataset\n",
    "tokenized_train = train_dataset.map(\n",
    "    preprocess_function,\n",
    "    batched=True,\n",
    "    remove_columns=[\"text\", \"label\"]\n",
    ")"
   ]
  },
  {
   "cell_type": "code",
   "execution_count": 29,
   "metadata": {},
   "outputs": [
    {
     "name": "stderr",
     "output_type": "stream",
     "text": [
      "Map: 100%|██████████| 2880/2880 [00:01<00:00, 2156.54 examples/s]\n"
     ]
    }
   ],
   "source": [
    "tokenized_eval = eval_dataset.map(\n",
    "    preprocess_function,\n",
    "    batched=True,\n",
    "    remove_columns=[\"text\", \"label\"]\n",
    ")"
   ]
  },
  {
   "cell_type": "code",
   "execution_count": null,
   "metadata": {},
   "outputs": [],
   "source": [
    "# Load the model in standard precision for LoRA\n",
    "model = AutoModelForCausalLM.from_pretrained(\n",
    "    model_name,\n",
    "    torch_dtype=torch.float16,\n",
    "    device_map=\"auto\",\n",
    "    trust_remote_code=True\n",
    ")"
   ]
  },
  {
   "cell_type": "code",
   "execution_count": null,
   "metadata": {},
   "outputs": [],
   "source": [
    "# Configure LoRA\n",
    "lora_config = LoraConfig(\n",
    "    r=16,               # rank dimension\n",
    "    lora_alpha=32,      # scaling factor\n",
    "    target_modules=[\"q_proj\", \"k_proj\", \"v_proj\", \"o_proj\"],  # attention layers to fine-tune\n",
    "    lora_dropout=0.05,\n",
    "    bias=\"none\",\n",
    "    task_type=TaskType.CAUSAL_LM\n",
    ")"
   ]
  },
  {
   "cell_type": "code",
   "execution_count": null,
   "metadata": {},
   "outputs": [],
   "source": [
    "# Apply LoRA\n",
    "model = get_peft_model(model, lora_config)\n",
    "print(f\"Model loaded with LoRA configuration: {model}\")"
   ]
  },
  {
   "cell_type": "code",
   "execution_count": null,
   "metadata": {},
   "outputs": [],
   "source": [
    "# Print trainable parameters\n",
    "def print_trainable_parameters(model):\n",
    "    trainable_params = 0\n",
    "    all_params = 0\n",
    "    for _, param in model.named_parameters():\n",
    "        all_params += param.numel()\n",
    "        if param.requires_grad:\n",
    "            trainable_params += param.numel()\n",
    "    print(f\"Trainable params: {trainable_params} ({100 * trainable_params / all_params:.2f}% of all params)\")\n",
    "\n",
    "print_trainable_parameters(model)\n"
   ]
  },
  {
   "cell_type": "code",
   "execution_count": null,
   "metadata": {},
   "outputs": [],
   "source": [
    "class_weights = compute_class_weight(\n",
    "    'balanced',\n",
    "    classes=np.unique(train_dataset[\"label\"]),\n",
    "    y=train_dataset[\"label\"]\n",
    ")"
   ]
  },
  {
   "cell_type": "code",
   "execution_count": null,
   "metadata": {},
   "outputs": [],
   "source": [
    "# Convert to dictionary for easier lookup\n",
    "weight_dict = {i: float(weight) for i, weight in enumerate(class_weights) if i in np.unique(train_dataset[\"label\"])}\n",
    "\n",
    "print(\"Class weights (first 5):\", {i: weight_dict[i] for i in list(weight_dict.keys())[:5]})\n",
    "\n",
    "# Create a weighted sampler for the DataLoader\n",
    "class_weight_tensor = torch.tensor([weight_dict.get(label, 1.0) for label in train_dataset[\"label\"]], dtype=torch.float)"
   ]
  },
  {
   "cell_type": "code",
   "execution_count": null,
   "metadata": {},
   "outputs": [],
   "source": [
    "# Use a data collator that handles padding and conversion to tensors at batch time\n",
    "data_collator = DataCollatorForLanguageModeling(\n",
    "    tokenizer=tokenizer,\n",
    "    mlm=False,  # we're doing causal language modeling not masked language modeling\n",
    "    return_tensors=\"pt\"\n",
    ")"
   ]
  },
  {
   "cell_type": "code",
   "execution_count": null,
   "metadata": {},
   "outputs": [],
   "source": [
    "# Define compute metrics function\n",
    "def compute_metrics(eval_pred):\n",
    "    logits, labels = eval_pred\n",
    "    \n",
    "    # Find the indices where labels are not -100 (padding token)\n",
    "    mask = labels != -100\n",
    "    \n",
    "    # Get predictions\n",
    "    predictions = logits.argmax(axis=-1)\n",
    "    \n",
    "    # Filter out padding tokens\n",
    "    filtered_predictions = []\n",
    "    filtered_labels = []\n",
    "    \n",
    "    for i in range(len(predictions)):\n",
    "        pred = predictions[i][mask[i]]\n",
    "        label = labels[i][mask[i]]\n",
    "        \n",
    "        if len(pred) > 0 and len(label) > 0:\n",
    "            # Use the last few tokens (where the response should be)\n",
    "            # This is a very simplified approach and may need refinement\n",
    "            filtered_predictions.append(pred[-1])  # Just using the last token\n",
    "            filtered_labels.append(label[-1])\n",
    "    \n",
    "    # Compute metrics\n",
    "    accuracy = accuracy_score(filtered_labels, filtered_predictions)\n",
    "    \n",
    "    # F1 score may not be applicable for single token prediction\n",
    "    # This is just a placeholder\n",
    "    try:\n",
    "        f1 = f1_score(filtered_labels, filtered_predictions, average='weighted')\n",
    "    except:\n",
    "        f1 = 0.0\n",
    "    \n",
    "    return {\n",
    "        \"accuracy\": accuracy,\n",
    "        \"f1\": f1\n",
    "    }\n"
   ]
  },
  {
   "cell_type": "code",
   "execution_count": null,
   "metadata": {},
   "outputs": [],
   "source": [
    "# Training arguments (adjusted for standard LoRA)\n",
    "training_args = TrainingArguments(\n",
    "    output_dir=output_dir,\n",
    "    num_train_epochs=10,\n",
    "    per_device_train_batch_size=2,\n",
    "    per_device_eval_batch_size=2,\n",
    "    gradient_accumulation_steps=8,\n",
    "    warmup_steps=100,\n",
    "    weight_decay=0.01,\n",
    "    learning_rate=2e-4,\n",
    "    fp16=True,\n",
    "    logging_steps=200,\n",
    "    eval_steps=500,\n",
    "    save_steps=500,\n",
    "    load_best_model_at_end=True,\n",
    "    report_to=\"none\"\n",
    ")\n"
   ]
  },
  {
   "cell_type": "code",
   "execution_count": null,
   "metadata": {},
   "outputs": [],
   "source": [
    "# Initialize trainer\n",
    "trainer = Trainer(\n",
    "    model=model,\n",
    "    args=training_args,\n",
    "    train_dataset=tokenized_train,\n",
    "    eval_dataset=tokenized_eval,\n",
    "    data_collator=data_collator,\n",
    "    compute_metrics=compute_metrics\n",
    ")"
   ]
  },
  {
   "cell_type": "code",
   "execution_count": null,
   "metadata": {},
   "outputs": [],
   "source": [
    "# Train the model\n",
    "trainer.train()"
   ]
  },
  {
   "cell_type": "code",
   "execution_count": null,
   "metadata": {},
   "outputs": [],
   "source": [
    "# Save the fine-tuned model\n",
    "trainer.save_model(output_dir)"
   ]
  },
  {
   "cell_type": "markdown",
   "metadata": {},
   "source": [
    "### Inference"
   ]
  },
  {
   "cell_type": "code",
   "execution_count": 2,
   "metadata": {},
   "outputs": [],
   "source": [
    "base_model_name = \"meta-llama/Llama-3.2-1B\"\n",
    "lora_adapter_path = \"./llama-3.2-lora-finetuned\""
   ]
  },
  {
   "cell_type": "code",
   "execution_count": null,
   "metadata": {},
   "outputs": [],
   "source": [
    "base_model = AutoModelForCausalLM.from_pretrained(\n",
    "    model_name,\n",
    "    torch_dtype=torch.float16,\n",
    "    device_map=\"auto\",\n",
    "    trust_remote_code=True\n",
    ")"
   ]
  },
  {
   "cell_type": "code",
   "execution_count": 1,
   "metadata": {},
   "outputs": [],
   "source": [
    "from peft import PeftModel"
   ]
  },
  {
   "cell_type": "code",
   "execution_count": null,
   "metadata": {},
   "outputs": [],
   "source": [
    "model = PeftModel.from_pretrained(base_model, lora_adapter_path)\n",
    "\n",
    "tokenizer = AutoTokenizer.from_pretrained(base_model_name)\n",
    "tokenizer.pad_token = tokenizer.eos_token\n",
    "tokenizer.padding_side = \"right\""
   ]
  },
  {
   "cell_type": "code",
   "execution_count": 3,
   "metadata": {},
   "outputs": [],
   "source": [
    "# Create a prediction pipeline\n",
    "def predict_category(text):\n",
    "    # Format input just like during training\n",
    "    prompt = f\"### Instruction: Classify the following bank customer query into the appropriate category.\\n\\n### Input: {text}\\n\\n### Response:\"\n",
    "    \n",
    "    # Tokenize input\n",
    "    inputs = tokenizer(prompt, return_tensors=\"pt\", padding=True, truncation=True).to(device)\n",
    "    \n",
    "    with torch.no_grad():\n",
    "        # Generate prediction\n",
    "        outputs = model.generate(\n",
    "            input_ids=inputs[\"input_ids\"],\n",
    "            attention_mask=inputs[\"attention_mask\"],\n",
    "            max_new_tokens=20,\n",
    "            pad_token_id=tokenizer.eos_token_id,\n",
    "            temperature=0.1,\n",
    "        )\n",
    "    \n",
    "    # Decode the prediction\n",
    "    decoded_output = tokenizer.decode(outputs[0], skip_special_tokens=True)\n",
    "    \n",
    "    # Extract the actual response part (after \"### Response:\")\n",
    "    try:\n",
    "        response = decoded_output.split(\"### Response:\")[1].strip()\n",
    "    except:\n",
    "        response = decoded_output\n",
    "    \n",
    "    return response"
   ]
  },
  {
   "cell_type": "code",
   "execution_count": 4,
   "metadata": {},
   "outputs": [],
   "source": [
    "correct = 0\n",
    "total = 0\n",
    "\n",
    "text_list = []\n",
    "actual_category_list = []\n",
    "predicted_category_list = []"
   ]
  },
  {
   "cell_type": "code",
   "execution_count": null,
   "metadata": {},
   "outputs": [],
   "source": [
    "for i, example in enumerate(eval_dataset):\n",
    "    text = example[\"text\"]\n",
    "    text_list.append(text)\n",
    "    \n",
    "    actual_category = label_description[example[\"label\"]]\n",
    "    actual_category_list.append(actual_category)\n",
    "    \n",
    "    # Get model prediction\n",
    "    predicted_category = predict_category(text)\n",
    "    predicted_category_list.append(predicted_category)\n",
    "    \n",
    "    # Count correct predictions\n",
    "    if predicted_category.strip() == actual_category.strip():\n",
    "        correct += 1\n",
    "    total += 1"
   ]
  },
  {
   "cell_type": "code",
   "execution_count": null,
   "metadata": {},
   "outputs": [],
   "source": [
    "import pandas as pd\n",
    "df = pd.DataFrame({\"Text\":text_list, \"Actual_Category\":actual_category_list, \"Predicted_category\":predicted_category_list})"
   ]
  },
  {
   "cell_type": "code",
   "execution_count": null,
   "metadata": {},
   "outputs": [],
   "source": [
    "import re\n",
    "\n",
    "def extract_category(text):\n",
    "    match = re.search(r'Category\\s+(\\d+\\s*:?)', text)  # Match \"Category xx\" with 1 or 2 digits\n",
    "    if match:\n",
    "        category_match = match.group(1)\n",
    "        category_clean = category_match.rstrip(\": \")\n",
    "        return f\"Category {category_clean}\"\n",
    "    else:\n",
    "        return None  # Return None if no match\n",
    "\n",
    "# Create new column with extracted category\n",
    "df['Final_Category'] = df['Predicted_Category'].apply(extract_category)\n",
    "\n",
    "# Display result\n",
    "df.head()"
   ]
  },
  {
   "cell_type": "code",
   "execution_count": null,
   "metadata": {},
   "outputs": [],
   "source": [
    "matches = df[\"Actual_Category\"]==df[\"Final_Category\"]\n",
    "accuracy = matches.mean()*100\n",
    "\n",
    "total_records = len(df)\n",
    "matching_records = matches.sum()\n",
    "\n",
    "print(f\"Matching records: {matching_records} out of {total_records}\")\n",
    "print(f\"Accuracy: {accuracy:.2f}%\")"
   ]
  },
  {
   "cell_type": "code",
   "execution_count": null,
   "metadata": {},
   "outputs": [],
   "source": [
    "df.to_csv(\"FinalOutput.csv\", index=False)"
   ]
  },
  {
   "cell_type": "code",
   "execution_count": null,
   "metadata": {},
   "outputs": [],
   "source": [
    "from sklearn.metrics import accuracy_score, precision_recall_fscore_support\n",
    "\n",
    "# Compute accuracy\n",
    "accuracy = accuracy_score(df[\"Actual_Category\"], df[\"Final_Category\"])\n",
    "\n",
    "# Compute precision, recall, and F1-score for each category\n",
    "precision, recall, f1, _ = precision_recall_fscore_support(df[\"Actual_Category\"], df[\"Final_Category\"], average=None)\n",
    "\n",
    "# Compute weighted precision and recall\n",
    "weighted_precision, weighted_recall, _, _ = precision_recall_fscore_support(\n",
    "    df[\"Actual_Category\"], df[\"Final_Category\"], average=\"weighted\"\n",
    ")\n",
    "\n",
    "# Print results\n",
    "print(f\"Accuracy: {accuracy * 100:.2f}%\")\n",
    "print(\"Precision for each category:\", dict(zip(sorted(df[\"Actual_Category\"].unique()), precision)))\n",
    "print(\"Recall for each category:\", dict(zip(sorted(df[\"Actual_Category\"].unique()), recall)))\n",
    "print(f\"Weighted Precision: {weighted_precision:.2f}\")\n",
    "print(f\"Weighted Recall: {weighted_recall:.2f}\")"
   ]
  },
  {
   "cell_type": "code",
   "execution_count": null,
   "metadata": {},
   "outputs": [],
   "source": [
    "category_match_counts = df[df[\"Actual_Category\"] == df[\"Final_Category\"]].groupby(\"Actual_Category\").size()\n",
    "final_df = df.copy()\n",
    "actual_counts = final_df[\"Actual_Category\"].value_counts().rename(\"Actual_Counts\")\n",
    "predicted_counts = final_df[\"Final_Category\"].value_counts().rename(\"Predicted_Counts\")"
   ]
  },
  {
   "cell_type": "code",
   "execution_count": null,
   "metadata": {},
   "outputs": [],
   "source": [
    "match_counts = final_df[final_df[\"Actual_Category\"] == final_df[\"Final_Category\"]][\"Actual_Category\"].value_counts().rename(\"Match_Count\")\n",
    "\n",
    "result_df = pd.DataFrame({'Category':actual_counts.index})\n",
    "result_df = result_df.set_index('Category')\n",
    "result_df = result_df.join(actual_counts).join(predicted_counts).join(match_counts, how='left').fillna(0)"
   ]
  },
  {
   "cell_type": "code",
   "execution_count": null,
   "metadata": {},
   "outputs": [],
   "source": [
    "result_df[\"%Match\"] = (result_df[\"Match_Count\"]/result_df[\"Actual_Counts\"])*100\n",
    "\n",
    "result_df = result_df.reset_index()\n"
   ]
  },
  {
   "cell_type": "code",
   "execution_count": null,
   "metadata": {},
   "outputs": [],
   "source": [
    "result_df.head()\n",
    "\n",
    "result_df[result_df[\"%Match\"]<70]"
   ]
  },
  {
   "cell_type": "code",
   "execution_count": null,
   "metadata": {},
   "outputs": [],
   "source": [
    "# Create a few-shot prompt for inference with examples of the excluded intents\n",
    "def create_few_shot_prompt(query, few_shot_examples):\n",
    "    # Create the few-shot prompt with 3 examples per excluded intent\n",
    "    prompt = \"### Instruction: Classify the following bank customer query into the appropriate category.\\n\\n\"\n",
    "    \n",
    "    # Add few-shot examples\n",
    "    for example in few_shot_examples:\n",
    "        text = example[\"text\"]\n",
    "        label = example[\"label\"]\n",
    "        label_text = label_descriptions[label]\n",
    "        prompt += f\"### Input: {text}\\n\\n### Response: {label_text}\\n\\n\"\n",
    "    \n",
    "    # Add the query\n",
    "    prompt += f\"### Input: {query}\\n\\n### Response:\"\n",
    "    \n",
    "    return prompt\n"
   ]
  },
  {
   "cell_type": "code",
   "execution_count": null,
   "metadata": {},
   "outputs": [],
   "source": [
    "# Function for inference with few-shot examples\n",
    "def generate_answer_with_few_shot(query, model, tokenizer, few_shot_examples):\n",
    "    # Create few-shot prompt\n",
    "    prompt = create_few_shot_prompt(query, few_shot_examples)\n",
    "    inputs = tokenizer(prompt, return_tensors=\"pt\").to(device)\n",
    "    \n",
    "    with torch.no_grad():\n",
    "        outputs = model.generate(\n",
    "            input_ids=inputs[\"input_ids\"],\n",
    "            attention_mask=inputs[\"attention_mask\"],\n",
    "            max_new_tokens=50,\n",
    "            temperature=0.7,\n",
    "            top_p=0.9,\n",
    "            do_sample=True\n",
    "        )\n",
    "    \n",
    "    response = tokenizer.decode(outputs[0], skip_special_tokens=True)\n",
    "    # Extract just the response part\n",
    "    response = response.split(\"### Response:\")[-1].strip()\n",
    "    return response\n",
    "\n"
   ]
  },
  {
   "cell_type": "code",
   "execution_count": null,
   "metadata": {},
   "outputs": [],
   "source": [
    "# Define regular inference function for comparison\n",
    "def generate_answer(query, model, tokenizer):\n",
    "    prompt = f\"### Instruction: Classify the following bank customer query into the appropriate category.\\n\\n### Input: {query}\\n\\n### Response:\"\n",
    "    inputs = tokenizer(prompt, return_tensors=\"pt\").to(device)\n",
    "    \n",
    "    with torch.no_grad():\n",
    "        outputs = model.generate(\n",
    "            input_ids=inputs[\"input_ids\"],\n",
    "            attention_mask=inputs[\"attention_mask\"],\n",
    "            max_new_tokens=50,\n",
    "            temperature=0.7,\n",
    "            top_p=0.9,\n",
    "            do_sample=True\n",
    "        )\n",
    "    \n",
    "    response = tokenizer.decode(outputs[0], skip_special_tokens=True)\n",
    "    # Extract just the response part\n",
    "    response = response.split(\"### Response:\")[-1].strip()\n",
    "    return response\n"
   ]
  },
  {
   "cell_type": "code",
   "execution_count": null,
   "metadata": {},
   "outputs": [],
   "source": [
    "# Get a test query from the excluded intents\n",
    "test_examples_for_excluded = filter_dataset(dataset[\"test\"], excluded_intents, include_excluded=True)\n",
    "if len(test_examples_for_excluded) > 0:\n",
    "    test_example = test_examples_for_excluded[0]\n",
    "    sample_query = test_example[\"text\"]\n",
    "    true_label = label_descriptions[test_example[\"label\"]]\n",
    "    \n",
    "    # Test with regular inference (no few-shot)\n",
    "    result_no_few_shot = generate_answer(sample_query, model, tokenizer)\n",
    "    \n",
    "    # Test with few-shot inference\n",
    "    result_few_shot = generate_answer_with_few_shot(sample_query, model, tokenizer, few_shot_examples)\n",
    "    \n",
    "    print(f\"Sample Query: {sample_query}\")\n",
    "    print(f\"True Label: {true_label}\")\n",
    "    print(f\"Predicted (No Few-Shot): {result_no_few_shot}\")\n",
    "    print(f\"Predicted (With Few-Shot): {result_few_shot}\")\n",
    "else:\n",
    "    print(\"No test examples found for excluded intents!\")\n"
   ]
  },
  {
   "cell_type": "code",
   "execution_count": null,
   "metadata": {},
   "outputs": [],
   "source": []
  },
  {
   "cell_type": "code",
   "execution_count": null,
   "metadata": {},
   "outputs": [],
   "source": []
  },
  {
   "cell_type": "code",
   "execution_count": null,
   "metadata": {},
   "outputs": [],
   "source": []
  }
 ],
 "metadata": {
  "kernelspec": {
   "display_name": "Python 3",
   "language": "python",
   "name": "python3"
  },
  "language_info": {
   "codemirror_mode": {
    "name": "ipython",
    "version": 3
   },
   "file_extension": ".py",
   "mimetype": "text/x-python",
   "name": "python",
   "nbconvert_exporter": "python",
   "pygments_lexer": "ipython3",
   "version": "3.10.16"
  }
 },
 "nbformat": 4,
 "nbformat_minor": 2
}
